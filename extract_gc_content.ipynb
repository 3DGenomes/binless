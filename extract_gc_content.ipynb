{
 "cells": [
  {
   "cell_type": "code",
   "execution_count": 1,
   "metadata": {
    "collapsed": false
   },
   "outputs": [],
   "source": [
    "from Bio import SeqIO\n",
    "from Bio import SeqUtils\n",
    "from Bio import Restriction\n",
    "%matplotlib inline\n",
    "import matplotlib.pyplot as plt\n",
    "import numpy as np"
   ]
  },
  {
   "cell_type": "code",
   "execution_count": 2,
   "metadata": {
    "collapsed": false
   },
   "outputs": [
    {
     "name": "stdout",
     "output_type": "stream",
     "text": [
      "ID: chr1\n",
      "Name: chr1\n",
      "Description: chr1\n",
      "Number of features: 0\n",
      "Seq('GAATTCTTAACGTCCTGAGACACGACAGCGACCTCTGACCGGACTCGTTCCGCG...AAT', SingleLetterAlphabet())\n"
     ]
    }
   ],
   "source": [
    "seq= SeqIO.parse(\"/scratch/caulobacter/data/Caulobacter_NA1000.fa\", \"fasta\").next()\n",
    "print seq\n",
    "seq=seq.seq"
   ]
  },
  {
   "cell_type": "code",
   "execution_count": 6,
   "metadata": {
    "collapsed": false
   },
   "outputs": [],
   "source": [
    "biases=np.loadtxt(\"data/caulo_1000000-1100000_biases.dat\", skiprows=1)"
   ]
  },
  {
   "cell_type": "code",
   "execution_count": 14,
   "metadata": {
    "collapsed": false
   },
   "outputs": [],
   "source": [
    "gc=[]\n",
    "window=10\n",
    "for idx,pos,DL,DR,RJ in biases:\n",
    "    pos=int(pos)\n",
    "    gcr=SeqUtils.GC(seq[pos-window-1:pos-1])\n",
    "    gcl=SeqUtils.GC(seq[pos:pos+window])\n",
    "    gc.append((gcr,gcl))"
   ]
  },
  {
   "cell_type": "code",
   "execution_count": 20,
   "metadata": {
    "collapsed": false
   },
   "outputs": [],
   "source": [
    "with open(\"data/caulo_1000000-1100000_biases_gc.dat\",'w') as fl:\n",
    "    windows=[400,10]\n",
    "    fl.write(\"id pos dangling.L dangling.R rejoined GC.R.400 GC.L.400 GC.R.10 GC.L.10\\n\")\n",
    "    for idx,pos,DL,DR,RJ in biases:\n",
    "        fl.write(\"%s %s %s %s %s\" % (idx,pos,DL,DR,RJ))\n",
    "        pos=int(pos)\n",
    "        for window in windows:\n",
    "            gcr=SeqUtils.GC(seq[pos-window-1:pos-1])\n",
    "            gcl=SeqUtils.GC(seq[pos:pos+window])\n",
    "            fl.write(\" %3.1f %3.1f\" % (gcr,gcl))\n",
    "        fl.write('\\n')\n",
    "    "
   ]
  },
  {
   "cell_type": "code",
   "execution_count": 15,
   "metadata": {
    "collapsed": false
   },
   "outputs": [
    {
     "data": {
      "text/plain": [
       "([(69.5, 73.75),\n",
       "  (72.0, 71.0),\n",
       "  (67.5, 70.75),\n",
       "  (62.75, 69.25),\n",
       "  (67.5, 69.25),\n",
       "  (71.25, 71.5),\n",
       "  (70.0, 69.0),\n",
       "  (69.25, 64.25),\n",
       "  (63.75, 66.75)],\n",
       " [(60.0, 70.0),\n",
       "  (60.0, 70.0),\n",
       "  (70.0, 70.0),\n",
       "  (60.0, 60.0),\n",
       "  (60.0, 70.0),\n",
       "  (90.0, 70.0),\n",
       "  (80.0, 50.0),\n",
       "  (80.0, 50.0),\n",
       "  (70.0, 70.0)])"
      ]
     },
     "execution_count": 15,
     "metadata": {},
     "output_type": "execute_result"
    }
   ],
   "source": [
    "gc400[1:10],gc[1:10]"
   ]
  },
  {
   "cell_type": "code",
   "execution_count": 21,
   "metadata": {
    "collapsed": false
   },
   "outputs": [
    {
     "data": {
      "text/plain": [
       "404.2929"
      ]
     },
     "execution_count": 21,
     "metadata": {},
     "output_type": "execute_result"
    }
   ],
   "source": [
    "len(seq)/10000."
   ]
  },
  {
   "cell_type": "code",
   "execution_count": 34,
   "metadata": {
    "collapsed": false
   },
   "outputs": [],
   "source": [
    "gc_per_bin=[]\n",
    "for i in xrange(0,len(seq),10000):\n",
    "    gc_per_bin.append(SeqUtils.GC(seq[i:i+10000]))\n",
    "np.savetxt('gc_per_bin.dat', np.array(gc_per_bin))"
   ]
  },
  {
   "cell_type": "code",
   "execution_count": 32,
   "metadata": {
    "collapsed": false,
    "scrolled": true
   },
   "outputs": [
    {
     "data": {
      "text/plain": [
       "[<matplotlib.lines.Line2D at 0x3f6a9d0>]"
      ]
     },
     "execution_count": 32,
     "metadata": {},
     "output_type": "execute_result"
    },
    {
     "data": {
      "image/png": "[encoded data removed]",
      "text/plain": [
       "<matplotlib.figure.Figure at 0x2396f10>"
      ]
     },
     "metadata": {},
     "output_type": "display_data"
    }
   ],
   "source": [
    "plt.plot(gc_dper_bin)"
   ]
  },
  {
   "cell_type": "code",
   "execution_count": null,
   "metadata": {
    "collapsed": true
   },
   "outputs": [],
   "source": [
    "d"
   ]
  }
 ],
 "metadata": {
  "kernelspec": {
   "display_name": "Python 2",
   "language": "python",
   "name": "python2"
  },
  "language_info": {
   "codemirror_mode": {
    "name": "ipython",
    "version": 2
   },
   "file_extension": ".py",
   "mimetype": "text/x-python",
   "name": "python",
   "nbconvert_exporter": "python",
   "pygments_lexer": "ipython2",
   "version": "2.7.5"
  }
 },
 "nbformat": 4,
 "nbformat_minor": 0
}
